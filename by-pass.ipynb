{
  "cells": [
    {
      "cell_type": "markdown",
      "metadata": {
        "id": "view-in-github",
        "colab_type": "text"
      },
      "source": [
        "<a href=\"https://colab.research.google.com/github/JohnWickKeanue/bypass/blob/main/by-pass.ipynb\" target=\"_parent\"><img src=\"https://colab.research.google.com/assets/colab-badge.svg\" alt=\"Open In Colab\"/></a>"
      ]
    },
    {
      "cell_type": "code",
      "source": [
        "#@title <b><center>Enter Rocklink/gtlink/shortingly Link Below</center></b>\n",
        "print(\"Downloading Cloud-Scraper...\")\n",
        "!pip install cloudscraper\n",
        "print(\"Setting Up!\")\n",
        "print(\"Performing Check...\")\n",
        "import time\n",
        "import cloudscraper\n",
        "from bs4 import BeautifulSoup \n",
        "print(\"Everything Looks Good! Lets Continue.\")\n",
        "\n",
        "url = \"\"  #@param {type:\"string\"}\n",
        "\n",
        "\n",
        "'''\n",
        "NOTE: \n",
        "SUPPORTED DOMAINS:\n",
        " - rocklinks.net\n",
        " - gtlinks.me\n",
        " - shortingly.me\n",
        " \n",
        " \n",
        "'''\n",
        "# ---------------------------------------------------------------------------------------------------------------------\n",
        "\n",
        "def bypass(url):\n",
        "    client = cloudscraper.create_scraper(allow_brotli=False)\n",
        "    if 'rocklinks.net' in url:\n",
        "        DOMAIN = \"https://blog.disheye.com\"\n",
        "    elif 'gtlinks.me' in url:\n",
        "        DOMAIN = \"https://go.bloggertheme.xyz\"\n",
        "    elif 'shortingly.me' in url:\n",
        "        DOMAIN = \"https://go.techyjeeshan.xyz\"\n",
        "    else:\n",
        "        DOMAIN = \"https://rocklinks.net\"\n",
        "\n",
        "    url = url[:-1] if url[-1] == '/' else url\n",
        "\n",
        "    code = url.split(\"/\")[-1]\n",
        "    if 'rocklinks.net' in url:\n",
        "        final_url = f\"{DOMAIN}/{code}?quelle=\" \n",
        "    else:\n",
        "        final_url = f\"{DOMAIN}/{code}\"\n",
        "\n",
        "    resp = client.get(final_url)\n",
        "    soup = BeautifulSoup(resp.content, \"html.parser\")\n",
        "    \n",
        "    try: inputs = soup.find(id=\"go-link\").find_all(name=\"input\")\n",
        "    except: return \"Incorrect Link\"\n",
        "    \n",
        "    data = { input.get('name'): input.get('value') for input in inputs }\n",
        "\n",
        "    h = { \"x-requested-with\": \"XMLHttpRequest\" }\n",
        "    \n",
        "    time.sleep(10)\n",
        "    r = client.post(f\"{DOMAIN}/links/go\", data=data, headers=h)\n",
        "    try:\n",
        "        return r.json()['url']\n",
        "    except: return \"Something went wrong :(\"\n",
        "\n",
        "# ---------------------------------------------------------------------------------------------------------------------\n",
        "\n",
        "print(bypass(url))"
      ],
      "metadata": {
        "id": "HTs5kP5Fs5o4"
      },
      "execution_count": null,
      "outputs": []
    }
  ],
  "metadata": {
    "colab": {
      "collapsed_sections": [],
      "name": "Welcome to Colaboratory",
      "toc_visible": true,
      "provenance": [],
      "include_colab_link": true
    },
    "kernelspec": {
      "display_name": "Python 3",
      "name": "python3"
    }
  },
  "nbformat": 4,
  "nbformat_minor": 0
}
